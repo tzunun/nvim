{
  "nbformat": 4,
  "nbformat_minor": 0,
  "metadata": {
    "colab": {
      "name": "Vector Mean Coding Challenge.ipynb",
      "version": "0.3.2",
      "provenance": [],
      "collapsed_sections": []
    },
    "kernelspec": {
      "name": "python3",
      "display_name": "Python 3"
    }
  },
  "cells": [
    {
      "cell_type": "markdown",
      "metadata": {
        "id": "view-in-github",
        "colab_type": "text"
      },
      "source": [
        "[View in Colaboratory](https://colab.research.google.com/github/tzunun/nvim/blob/master/Vector_Mean_Coding_Challenge.ipynb)"
      ]
    },
    {
      "metadata": {
        "id": "pvORCN22-kUH",
        "colab_type": "code",
        "colab": {}
      },
      "cell_type": "code",
      "source": [
        "import numpy as np"
      ],
      "execution_count": 0,
      "outputs": []
    },
    {
      "metadata": {
        "id": "P02PwVyLCkLE",
        "colab_type": "text"
      },
      "cell_type": "markdown",
      "source": [
        "Write a function that takes in a vector (in the form of a 1D numpy array) and returns the average value across its components.\n",
        "\n",
        "For example, [4,2] should return 3 and [5, 6, 7, 8] should return 6.5. You can assume the vector will have at least one coomponent."
      ]
    },
    {
      "metadata": {
        "id": "dmtDPKX9CsX0",
        "colab_type": "code",
        "colab": {}
      },
      "cell_type": "code",
      "source": [
        "def average(vector):\n",
        "######################\n",
        "### Your code here ###\n",
        "######################"
      ],
      "execution_count": 0,
      "outputs": []
    },
    {
      "metadata": {
        "id": "f0HXg2gTKR8B",
        "colab_type": "text"
      },
      "cell_type": "markdown",
      "source": [
        "Let's see if it worked:"
      ]
    },
    {
      "metadata": {
        "id": "2lrtNAjYKThU",
        "colab_type": "code",
        "colab": {
          "base_uri": "https://localhost:8080/",
          "height": 138
        },
        "outputId": "d198e49a-cef2-4e53-c18b-f1a5a85472c0"
      },
      "cell_type": "code",
      "source": [
        "testSet = [[np.array([1, 2, 3, 4]), 2.5],\n",
        "        [np.array([18, 65, 11]), 94/3],\n",
        "        [np.array([10]), 10],\n",
        "        [np.array([-8]), -8],\n",
        "        [np.array([-4,-1,-2]), -7/3],\n",
        "        [np.array([0,0,0]), 0],\n",
        "        [np.array([-10,10]), 0]]\n",
        "\n",
        "for test in testSet:\n",
        "  if (average(test[0]) == test[1]):\n",
        "    print (\"Correct result\")\n",
        "  else:\n",
        "    print (\"Incorrect result\")"
      ],
      "execution_count": 0,
      "outputs": [
        {
          "output_type": "stream",
          "text": [
            "Correct result\n",
            "Correct result\n",
            "Correct result\n",
            "Correct result\n",
            "Correct result\n",
            "Correct result\n",
            "Correct result\n"
          ],
          "name": "stdout"
        }
      ]
    },
    {
      "metadata": {
        "id": "Jp20wSX3LPUF",
        "colab_type": "text"
      },
      "cell_type": "markdown",
      "source": [
        "## Bonus Challenge\n",
        "\n",
        "`testSet` is a small group of points. Rearrange the values in testSet to be 2d, then rotate them around their centroid by 45 degrees."
      ]
    },
    {
      "metadata": {
        "id": "EcpeYCxFLud2",
        "colab_type": "code",
        "colab": {}
      },
      "cell_type": "code",
      "source": [
        "# rearrange\n",
        "# find centroid\n",
        "# translate\n",
        "# rotate\n",
        "# undo translation"
      ],
      "execution_count": 0,
      "outputs": []
    }
  ]
}